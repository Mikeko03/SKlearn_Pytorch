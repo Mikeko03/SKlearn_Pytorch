{
 "cells": [
  {
   "cell_type": "code",
   "execution_count": 1,
   "metadata": {},
   "outputs": [],
   "source": [
    "import pandas as pd\n",
    "import numpy as np\n",
    "import re\n",
    "import matplotlib.pyplot as plt\n",
    "import seaborn as sns"
   ]
  },
  {
   "cell_type": "code",
   "execution_count": 2,
   "metadata": {},
   "outputs": [],
   "source": [
    "path = \"/Users/michalmacbookpro/Downloads/titanic\"\n",
    "df_train = pd.read_csv(path + \"/train.csv\")\n",
    "df_test = pd.read_csv(path + \"/test.csv\")\n",
    "submision = pd.read_csv(path + \"/gender_submission.csv\")"
   ]
  },
  {
   "cell_type": "code",
   "execution_count": 3,
   "metadata": {},
   "outputs": [],
   "source": [
    "from sklearn.pipeline import Pipeline\n",
    "from sklearn.impute import SimpleImputer\n",
    "from sklearn.preprocessing import StandardScaler, QuantileTransformer"
   ]
  },
  {
   "cell_type": "code",
   "execution_count": 4,
   "metadata": {},
   "outputs": [],
   "source": [
    "#df_train = df_train[df_train[\"Fare\"].between(0,100)]\n",
    "#df_train = df_train[df_train[\"Age\"].between(0,65)]"
   ]
  },
  {
   "cell_type": "code",
   "execution_count": 5,
   "metadata": {},
   "outputs": [],
   "source": [
    "num_cols = Pipeline([(\"Imputer\",SimpleImputer(strategy=\"median\")),(\"Trans\",QuantileTransformer())])"
   ]
  },
  {
   "cell_type": "code",
   "execution_count": 6,
   "metadata": {},
   "outputs": [],
   "source": [
    "from sklearn.preprocessing import OrdinalEncoder,OneHotEncoder"
   ]
  },
  {
   "cell_type": "code",
   "execution_count": 7,
   "metadata": {},
   "outputs": [],
   "source": [
    "cat_cols = Pipeline([\n",
    "    (\"Encoder\",OrdinalEncoder()),\n",
    "    (\"Imputer\",SimpleImputer(strategy=\"most_frequent\")),\n",
    "    (\"OneHot\",OneHotEncoder(sparse=False))\n",
    "    ])"
   ]
  },
  {
   "cell_type": "code",
   "execution_count": 8,
   "metadata": {},
   "outputs": [],
   "source": [
    "from sklearn.compose import ColumnTransformer"
   ]
  },
  {
   "cell_type": "code",
   "execution_count": 9,
   "metadata": {},
   "outputs": [
    {
     "data": {
      "text/html": [
       "<div>\n",
       "<style scoped>\n",
       "    .dataframe tbody tr th:only-of-type {\n",
       "        vertical-align: middle;\n",
       "    }\n",
       "\n",
       "    .dataframe tbody tr th {\n",
       "        vertical-align: top;\n",
       "    }\n",
       "\n",
       "    .dataframe thead th {\n",
       "        text-align: right;\n",
       "    }\n",
       "</style>\n",
       "<table border=\"1\" class=\"dataframe\">\n",
       "  <thead>\n",
       "    <tr style=\"text-align: right;\">\n",
       "      <th></th>\n",
       "      <th>PassengerId</th>\n",
       "      <th>Survived</th>\n",
       "      <th>Pclass</th>\n",
       "      <th>Name</th>\n",
       "      <th>Sex</th>\n",
       "      <th>Age</th>\n",
       "      <th>SibSp</th>\n",
       "      <th>Parch</th>\n",
       "      <th>Ticket</th>\n",
       "      <th>Fare</th>\n",
       "      <th>Cabin</th>\n",
       "      <th>Embarked</th>\n",
       "      <th>Family</th>\n",
       "      <th>Cabin_L</th>\n",
       "      <th>Title</th>\n",
       "    </tr>\n",
       "  </thead>\n",
       "  <tbody>\n",
       "    <tr>\n",
       "      <th>208</th>\n",
       "      <td>209</td>\n",
       "      <td>1</td>\n",
       "      <td>3</td>\n",
       "      <td>Carr, Miss. Helen \"Ellen\"</td>\n",
       "      <td>female</td>\n",
       "      <td>16.0</td>\n",
       "      <td>0</td>\n",
       "      <td>0</td>\n",
       "      <td>367231</td>\n",
       "      <td>7.75</td>\n",
       "      <td>NaN</td>\n",
       "      <td>Q</td>\n",
       "      <td>0</td>\n",
       "      <td>U</td>\n",
       "      <td>Miss.</td>\n",
       "    </tr>\n",
       "  </tbody>\n",
       "</table>\n",
       "</div>"
      ],
      "text/plain": [
       "     PassengerId  Survived  Pclass                       Name     Sex   Age  \\\n",
       "208          209         1       3  Carr, Miss. Helen \"Ellen\"  female  16.0   \n",
       "\n",
       "     SibSp  Parch  Ticket  Fare Cabin Embarked  Family Cabin_L  Title  \n",
       "208      0      0  367231  7.75   NaN        Q       0       U  Miss.  "
      ]
     },
     "execution_count": 9,
     "metadata": {},
     "output_type": "execute_result"
    }
   ],
   "source": [
    "df_train[\"Family\"] = df_train[\"SibSp\"] + df_train[\"Parch\"]\n",
    "#df_train.sample(10)\n",
    "def cabinizer(df):\n",
    "    df[\"Cabin_L\"] = df[\"Cabin\"].str.extract(r\"(^\\D{0,1})\")\n",
    "    df[\"Cabin_L\"].fillna(\"U\",inplace=True)\n",
    "    df[\"Cabin_L\"] = df[\"Cabin_L\"].map({\"A\":\"ABC\",\"B\":\"ABC\",\"C\":\"ABC\",\"D\":\"DE\",\"E\":\"DE\",\"F\":\"FG\",\"G\":\"FG\",\"T\":\"ABC\",\"U\":\"U\"})\n",
    "    return df\n",
    "\n",
    "cabinizer(df_train)\n",
    "\n",
    "def titulizer(df):\n",
    "    df[\"Title\"] = df[\"Name\"].str.extract(r\"([A-Za-z]+\\.)\")\n",
    "    df[\"Title\"].replace(['Capt.', 'Col.', 'Countess.', 'Don.', 'Dona.', 'Dr.', 'Jonkheer.', 'Lady.','Major.', 'Rev.', 'Sir.'], 'Rare.', inplace = True)\n",
    "    df[\"Title\"].replace(['Mlle.', 'Ms.'], 'Miss.', inplace = True)\n",
    "    df[\"Title\"].replace(['Mme.'], 'Mrs.', inplace = True)\n",
    "    return df\n",
    "\n",
    "titulizer(df_train)\n",
    "df_train.sample()\n"
   ]
  },
  {
   "cell_type": "code",
   "execution_count": 10,
   "metadata": {},
   "outputs": [],
   "source": [
    "num = [\"Age\",\"Fare\",\"Family\"]\n",
    "cat = [\"Pclass\",\"Sex\",\"Embarked\",\"Cabin_L\",\"Title\"]"
   ]
  },
  {
   "cell_type": "code",
   "execution_count": 11,
   "metadata": {},
   "outputs": [],
   "source": [
    "preprocesing_pipeline = ColumnTransformer([\n",
    "    (\"num\",num_cols,num),\n",
    "    (\"cat\", cat_cols,cat)\n",
    "])"
   ]
  },
  {
   "cell_type": "code",
   "execution_count": 12,
   "metadata": {},
   "outputs": [],
   "source": [
    "from sklearn.model_selection import train_test_split"
   ]
  },
  {
   "cell_type": "code",
   "execution_count": 37,
   "metadata": {},
   "outputs": [],
   "source": [
    "y = df_train.Survived\n",
    "x = df_train.drop(\"Survived\",axis=1)\n",
    "#print(f\"{X.shape}{y.shape}\")"
   ]
  },
  {
   "cell_type": "code",
   "execution_count": 33,
   "metadata": {},
   "outputs": [
    {
     "name": "stderr",
     "output_type": "stream",
     "text": [
      "/opt/anaconda3/lib/python3.8/site-packages/sklearn/preprocessing/_data.py:2590: UserWarning: n_quantiles (1000) is greater than the total number of samples (891). n_quantiles is set to n_samples.\n",
      "  warnings.warn(\n"
     ]
    }
   ],
   "source": [
    "X = preprocesing_pipeline.fit_transform(x)\n",
    "y = df_train.Survived"
   ]
  },
  {
   "cell_type": "code",
   "execution_count": 15,
   "metadata": {},
   "outputs": [],
   "source": [
    "X_train, X_test, y_train, y_test = train_test_split(X,y,test_size=0.3,stratify=y,random_state=42)"
   ]
  },
  {
   "cell_type": "code",
   "execution_count": 16,
   "metadata": {},
   "outputs": [
    {
     "name": "stderr",
     "output_type": "stream",
     "text": [
      "/opt/anaconda3/lib/python3.8/site-packages/xgboost/compat.py:36: FutureWarning: pandas.Int64Index is deprecated and will be removed from pandas in a future version. Use pandas.Index with the appropriate dtype instead.\n",
      "  from pandas import MultiIndex, Int64Index\n"
     ]
    }
   ],
   "source": [
    "from sklearn.model_selection import GridSearchCV\n",
    "from sklearn.model_selection import RandomizedSearchCV\n",
    "from sklearn.ensemble import RandomForestClassifier\n",
    "from sklearn.metrics import accuracy_score\n",
    "from sklearn.model_selection import cross_val_score\n",
    "from sklearn.tree import DecisionTreeClassifier\n",
    "from sklearn.ensemble import ExtraTreesClassifier\n",
    "from xgboost import XGBClassifier\n",
    "\n",
    "\n",
    "rfc = RandomForestClassifier()\n",
    "dtc = DecisionTreeClassifier()"
   ]
  },
  {
   "cell_type": "code",
   "execution_count": 17,
   "metadata": {},
   "outputs": [
    {
     "name": "stdout",
     "output_type": "stream",
     "text": [
      "Fitting 5 folds for each of 10 candidates, totalling 50 fits\n",
      "0.8208955223880597\n"
     ]
    }
   ],
   "source": [
    "param = [{\n",
    "    \"criterion\": ['gini', 'entropy'],\n",
    "    \"n_estimators\":[100,200,300,400,500,600],\n",
    "    'max_depth': range(4, 20, 2),\n",
    "    'max_leaf_nodes': range(4, 28, 2),\n",
    "}]\n",
    "\n",
    "gs_rt = RandomizedSearchCV(rfc, param, cv = 5, n_jobs = -1, verbose = 1)\n",
    "gs_rt.fit(X_train, y_train)\n",
    "y_pred = gs_rt.predict(X_test)\n",
    "#print(gs_rt.best_estimator_)\n",
    "print(accuracy_score(y_pred,y_test))\n",
    "rt_rs_best = gs_rt.best_estimator_\n"
   ]
  },
  {
   "cell_type": "code",
   "execution_count": 18,
   "metadata": {},
   "outputs": [
    {
     "name": "stdout",
     "output_type": "stream",
     "text": [
      "Fitting 5 folds for each of 192 candidates, totalling 960 fits\n",
      "0.8246268656716418\n"
     ]
    }
   ],
   "source": [
    "param = [\n",
    "    {\n",
    "        'criterion': ['gini', 'entropy'],\n",
    "        'max_depth': range(4, 20, 2),\n",
    "        'max_leaf_nodes': range(4, 28, 2),\n",
    "    }\n",
    "]\n",
    "\n",
    "gs_dt = GridSearchCV(dtc, param, cv = 5, n_jobs = -1, verbose = 1)\n",
    "gs_dt.fit(X_train, y_train)\n",
    "y_pred = gs_dt.predict(X_test)\n",
    "print(accuracy_score(y_pred,y_test))\n",
    "dt_gs_best = gs_dt.best_estimator_\n",
    "#print(f1_score(y_pred,y_test))"
   ]
  },
  {
   "cell_type": "code",
   "execution_count": 19,
   "metadata": {},
   "outputs": [
    {
     "name": "stdout",
     "output_type": "stream",
     "text": [
      "Fitting 5 folds for each of 10 candidates, totalling 50 fits\n",
      "0.8097014925373134\n",
      "SVC(C=0.3, gamma=0.3, kernel='poly', probability=True)\n",
      "0.8097014925373134\n"
     ]
    }
   ],
   "source": [
    "from sklearn.svm import SVC\n",
    "\n",
    "svc = SVC()\n",
    "\n",
    "param = [\n",
    "    {\n",
    "        'kernel': ['poly'], 'C': [0.1, 0.3, 1, 2, 3, 4], \n",
    "        'gamma': [0.1,0.2,0.3]\n",
    "    }, \n",
    "]\n",
    "\n",
    "svc = SVC(probability = True)\n",
    "rs_svc = RandomizedSearchCV(svc, param, cv = 5, n_jobs = -1, verbose = 1)\n",
    "rs_svc.fit(X_train, y_train)\n",
    "y_pred = rs_svc.predict(X_test)\n",
    "print(accuracy_score(y_pred,y_test))\n",
    "print(rs_svc.best_estimator_)\n",
    "print(accuracy_score(y_pred,y_test))\n"
   ]
  },
  {
   "cell_type": "code",
   "execution_count": 20,
   "metadata": {},
   "outputs": [
    {
     "name": "stdout",
     "output_type": "stream",
     "text": [
      "0.8097014925373134\n"
     ]
    }
   ],
   "source": [
    "param = [\n",
    "    {\n",
    "        'kernel': [\"poly\"], 'C': [0.1, 0.3, 1, 2, 4], \n",
    "        'gamma': [0.1,0.3, 1, 3, 10, 12]\n",
    "    }, \n",
    "]\n",
    "#\n",
    "#gs_svc = GridSearchCV(svc, param, cv = 5, n_jobs = -1, verbose = 1)\n",
    "#svc = SVC(probability = True)\n",
    "#gs_svc.fit(X_train, y_train)\n",
    "#y_pred = gs_svc.predict(X_test)\n",
    "print(accuracy_score(y_pred,y_test))\n",
    "#print(gs_svc.best_estimator_)\n",
    "\n",
    "#svc_best = gs_svc.best_estimator_\n",
    "#print(svc_best)"
   ]
  },
  {
   "cell_type": "code",
   "execution_count": 21,
   "metadata": {},
   "outputs": [
    {
     "name": "stdout",
     "output_type": "stream",
     "text": [
      "Fitting 5 folds for each of 10 candidates, totalling 50 fits\n",
      "0.835820895522388\n"
     ]
    }
   ],
   "source": [
    "param = [\n",
    "    {'n_estimators': range(8, 28, 4), \n",
    "     'max_depth': range(24, 48, 4),\n",
    "     'max_leaf_nodes': range(20, 48, 4),\n",
    "    }\n",
    "]\n",
    "\n",
    "et = ExtraTreesClassifier()\n",
    "gs_et = RandomizedSearchCV(et, param, cv = 5, n_jobs = -1, verbose = 1)\n",
    "gs_et.fit(X_train, y_train)\n",
    "y_pred = gs_et.predict(X_test)\n",
    "print(accuracy_score(y_pred,y_test))\n",
    "gs_et_best = gs_et.best_estimator_"
   ]
  },
  {
   "cell_type": "code",
   "execution_count": 22,
   "metadata": {},
   "outputs": [
    {
     "name": "stdout",
     "output_type": "stream",
     "text": [
      "Fitting 5 folds for each of 10 candidates, totalling 50 fits\n"
     ]
    },
    {
     "name": "stderr",
     "output_type": "stream",
     "text": [
      "/opt/anaconda3/lib/python3.8/site-packages/xgboost/compat.py:36: FutureWarning: pandas.Int64Index is deprecated and will be removed from pandas in a future version. Use pandas.Index with the appropriate dtype instead.\n",
      "  from pandas import MultiIndex, Int64Index\n",
      "/opt/anaconda3/lib/python3.8/site-packages/xgboost/compat.py:36: FutureWarning: pandas.Int64Index is deprecated and will be removed from pandas in a future version. Use pandas.Index with the appropriate dtype instead.\n",
      "  from pandas import MultiIndex, Int64Index\n",
      "/opt/anaconda3/lib/python3.8/site-packages/xgboost/compat.py:36: FutureWarning: pandas.Int64Index is deprecated and will be removed from pandas in a future version. Use pandas.Index with the appropriate dtype instead.\n",
      "  from pandas import MultiIndex, Int64Index\n",
      "/opt/anaconda3/lib/python3.8/site-packages/xgboost/compat.py:36: FutureWarning: pandas.Int64Index is deprecated and will be removed from pandas in a future version. Use pandas.Index with the appropriate dtype instead.\n",
      "  from pandas import MultiIndex, Int64Index\n",
      "/opt/anaconda3/lib/python3.8/site-packages/xgboost/compat.py:36: FutureWarning: pandas.Int64Index is deprecated and will be removed from pandas in a future version. Use pandas.Index with the appropriate dtype instead.\n",
      "  from pandas import MultiIndex, Int64Index\n",
      "/opt/anaconda3/lib/python3.8/site-packages/xgboost/compat.py:36: FutureWarning: pandas.Int64Index is deprecated and will be removed from pandas in a future version. Use pandas.Index with the appropriate dtype instead.\n",
      "  from pandas import MultiIndex, Int64Index\n",
      "/opt/anaconda3/lib/python3.8/site-packages/xgboost/compat.py:36: FutureWarning: pandas.Int64Index is deprecated and will be removed from pandas in a future version. Use pandas.Index with the appropriate dtype instead.\n",
      "  from pandas import MultiIndex, Int64Index\n",
      "/opt/anaconda3/lib/python3.8/site-packages/xgboost/compat.py:36: FutureWarning: pandas.Int64Index is deprecated and will be removed from pandas in a future version. Use pandas.Index with the appropriate dtype instead.\n",
      "  from pandas import MultiIndex, Int64Index\n",
      "/opt/anaconda3/lib/python3.8/site-packages/xgboost/compat.py:36: FutureWarning: pandas.Int64Index is deprecated and will be removed from pandas in a future version. Use pandas.Index with the appropriate dtype instead.\n",
      "  from pandas import MultiIndex, Int64Index\n",
      "/opt/anaconda3/lib/python3.8/site-packages/xgboost/compat.py:36: FutureWarning: pandas.Int64Index is deprecated and will be removed from pandas in a future version. Use pandas.Index with the appropriate dtype instead.\n",
      "  from pandas import MultiIndex, Int64Index\n"
     ]
    },
    {
     "name": "stdout",
     "output_type": "stream",
     "text": [
      "0.8097014925373134\n"
     ]
    }
   ],
   "source": [
    "param_grid={\n",
    "    'max_depth': range(2, 10, 2),\n",
    "    'n_estimators': range(26, 46, 2),\n",
    "    'learning_rate': [0.2, 0.1, 0.03, 0.01]\n",
    "}\n",
    "\n",
    "xg = XGBClassifier(eval_metric='logloss', n_jobs = -1, use_label_encoder = False)\n",
    "gs_xg = RandomizedSearchCV(xg, param_grid, cv = 5, n_jobs = -1, verbose = 1)\n",
    "gs_xg.fit(X_train, y_train)\n",
    "y_pred = gs_xg.predict(X_test)\n",
    "print(accuracy_score(y_pred,y_test))\n",
    "gs_xg_best = gs_xg.best_estimator_"
   ]
  },
  {
   "cell_type": "code",
   "execution_count": 23,
   "metadata": {},
   "outputs": [],
   "source": [
    "cabinizer(df_test)\n",
    "titulizer(df_test)\n",
    "df_test[\"Family\"] = df_test[\"SibSp\"] + df_test[\"Parch\"]\n",
    "df_test_test = preprocesing_pipeline.transform(df_test)"
   ]
  },
  {
   "cell_type": "code",
   "execution_count": 24,
   "metadata": {},
   "outputs": [],
   "source": [
    "#y_pred_test = gs_dt.predict(df_test_test).astype(\"int\")"
   ]
  },
  {
   "cell_type": "code",
   "execution_count": 25,
   "metadata": {},
   "outputs": [],
   "source": [
    "#submision[\"Survived\"] = y_pred_test\n",
    "#submision.to_csv('submission.csv', index = False)"
   ]
  },
  {
   "cell_type": "code",
   "execution_count": 26,
   "metadata": {},
   "outputs": [],
   "source": [
    "#y_pred = gs_svc.predict(df_test_test).astype(\"int\")\n",
    "#submision[\"Survived\"] = y_pred\n",
    "#submision.to_csv('submission.csv', index = False)"
   ]
  },
  {
   "cell_type": "code",
   "execution_count": 27,
   "metadata": {},
   "outputs": [],
   "source": [
    "from sklearn.ensemble import VotingClassifier"
   ]
  },
  {
   "cell_type": "code",
   "execution_count": 28,
   "metadata": {},
   "outputs": [
    {
     "name": "stdout",
     "output_type": "stream",
     "text": [
      "[Voting] ................. (2 of 4) Processing dec_tree, total=   0.0s\n",
      "[Voting] ................... (3 of 4) Processing extree, total=   0.0s\n",
      "[Voting] ...................... (4 of 4) Processing xgb, total=   0.1s\n",
      "[Voting] ................. (1 of 4) Processing rand_for, total=   0.4s\n",
      "0.8246268656716418\n"
     ]
    }
   ],
   "source": [
    "###eclf1 = VotingClassifier(estimators=[('lr', clf1), ('rf', clf2), ('gnb', clf3)], voting='hard')\n",
    "#eclf1 = eclf1.fit(X, y)\n",
    "#print(eclf1.predict(X))###\n",
    "\n",
    "voting_clf = VotingClassifier(estimators=[\n",
    "    (\"rand_for\",rt_rs_best),\n",
    "    (\"dec_tree\",dt_gs_best),\n",
    "    #(\"svc\",svc_best),\n",
    "    (\"extree\",gs_et_best),\n",
    "    (\"xgb\",gs_xg_best)],voting = 'hard', n_jobs = -1, verbose = 1)\n",
    "voting_clf.fit(X_train, y_train)\n",
    "y_pred = voting_clf.predict(X_test)\n",
    "print(accuracy_score(y_pred,y_test))\n"
   ]
  },
  {
   "cell_type": "code",
   "execution_count": 29,
   "metadata": {},
   "outputs": [],
   "source": [
    "submision[\"Survived\"] = voting_clf.predict(df_test_test).astype(\"int\")\n",
    "submision.to_csv('submission.csv', index = False)"
   ]
  },
  {
   "cell_type": "code",
   "execution_count": 30,
   "metadata": {},
   "outputs": [],
   "source": [
    "#y_pred=gs_xg_best.predict(df_test_test).astype(\"int\")\n",
    "#submision[\"Survived\"] = y_pred\n",
    "#submision.to_csv('submission.csv', index = False)"
   ]
  },
  {
   "cell_type": "code",
   "execution_count": null,
   "metadata": {},
   "outputs": [],
   "source": []
  },
  {
   "cell_type": "code",
   "execution_count": 31,
   "metadata": {},
   "outputs": [],
   "source": [
    "#sns.histplot(x=df_train[\"Fare\"],hue=df_train[\"Survived\"],multiple=\"dodge\")"
   ]
  },
  {
   "cell_type": "code",
   "execution_count": null,
   "metadata": {},
   "outputs": [],
   "source": []
  }
 ],
 "metadata": {
  "interpreter": {
   "hash": "40d3a090f54c6569ab1632332b64b2c03c39dcf918b08424e98f38b5ae0af88f"
  },
  "kernelspec": {
   "display_name": "Python 3.8.12 ('base')",
   "language": "python",
   "name": "python3"
  },
  "language_info": {
   "codemirror_mode": {
    "name": "ipython",
    "version": 3
   },
   "file_extension": ".py",
   "mimetype": "text/x-python",
   "name": "python",
   "nbconvert_exporter": "python",
   "pygments_lexer": "ipython3",
   "version": "3.8.12"
  },
  "orig_nbformat": 4
 },
 "nbformat": 4,
 "nbformat_minor": 2
}
